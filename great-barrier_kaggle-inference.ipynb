{
 "cells": [
  {
   "cell_type": "code",
   "execution_count": 1,
   "metadata": {
    "execution": {
     "iopub.execute_input": "2022-02-09T08:58:28.290613Z",
     "iopub.status.busy": "2022-02-09T08:58:28.289848Z",
     "iopub.status.idle": "2022-02-09T08:58:28.433873Z",
     "shell.execute_reply": "2022-02-09T08:58:28.433339Z",
     "shell.execute_reply.started": "2022-02-09T08:57:11.597280Z"
    },
    "papermill": {
     "duration": 0.187459,
     "end_time": "2022-02-09T08:58:28.434016",
     "exception": false,
     "start_time": "2022-02-09T08:58:28.246557",
     "status": "completed"
    },
    "tags": []
   },
   "outputs": [],
   "source": [
    "#Import Dependencies\n",
    "import os\n",
    "import pandas as pd\n",
    "import numpy as np\n",
    "import cv2\n",
    "import matplotlib.pyplot as plt\n",
    "import time\n",
    "import shutil\n",
    "import warnings\n",
    "import yaml\n",
    "warnings.filterwarnings(\"ignore\")\n",
    "os.environ['KMP_DUPLICATE_LIB_OK']='True'\n",
    "\n",
    "%matplotlib inline\n",
    "\n",
    "start=time.time()"
   ]
  },
  {
   "cell_type": "code",
   "execution_count": 2,
   "metadata": {
    "execution": {
     "iopub.execute_input": "2022-02-09T08:58:28.495215Z",
     "iopub.status.busy": "2022-02-09T08:58:28.494662Z",
     "iopub.status.idle": "2022-02-09T08:58:28.497798Z",
     "shell.execute_reply": "2022-02-09T08:58:28.498255Z",
     "shell.execute_reply.started": "2022-02-09T08:57:11.817354Z"
    },
    "papermill": {
     "duration": 0.034353,
     "end_time": "2022-02-09T08:58:28.498385",
     "exception": false,
     "start_time": "2022-02-09T08:58:28.464032",
     "status": "completed"
    },
    "tags": []
   },
   "outputs": [],
   "source": [
    "#Path of train and val information file\n",
    "reef_path='/kaggle/input/reef-yaml/reef.yaml'"
   ]
  },
  {
   "cell_type": "code",
   "execution_count": 3,
   "metadata": {
    "execution": {
     "iopub.execute_input": "2022-02-09T08:58:28.559231Z",
     "iopub.status.busy": "2022-02-09T08:58:28.558487Z",
     "iopub.status.idle": "2022-02-09T08:58:28.560612Z",
     "shell.execute_reply": "2022-02-09T08:58:28.561069Z",
     "shell.execute_reply.started": "2022-02-09T08:57:11.823130Z"
    },
    "papermill": {
     "duration": 0.03499,
     "end_time": "2022-02-09T08:58:28.561203",
     "exception": false,
     "start_time": "2022-02-09T08:58:28.526213",
     "status": "completed"
    },
    "tags": []
   },
   "outputs": [],
   "source": [
    "#Paths of trained models - Must be uploaded to kaggle \n",
    "model_path1='/kaggle/input/modelsl6/val2_l6.pt' #modelsbig/val2big.pt' #big 01, 12, 02 tested\n",
    "model_path2='/kaggle/input/modelsl6/val1_l6.pt' #modelsbig/val1big.pt'\n",
    "model_path='/kaggle/input/models/run1.pt' #run1,run2 - error with run3!!"
   ]
  },
  {
   "cell_type": "code",
   "execution_count": 4,
   "metadata": {
    "execution": {
     "iopub.execute_input": "2022-02-09T08:58:28.622822Z",
     "iopub.status.busy": "2022-02-09T08:58:28.621997Z",
     "iopub.status.idle": "2022-02-09T08:58:28.623707Z",
     "shell.execute_reply": "2022-02-09T08:58:28.624208Z",
     "shell.execute_reply.started": "2022-02-09T08:57:11.833804Z"
    },
    "papermill": {
     "duration": 0.034624,
     "end_time": "2022-02-09T08:58:28.624335",
     "exception": false,
     "start_time": "2022-02-09T08:58:28.589711",
     "status": "completed"
    },
    "tags": []
   },
   "outputs": [],
   "source": [
    "#path of folder with downloaded data\n",
    "base_path_data=\"/kaggle/input/tensorflow-great-barrier-reef/\" "
   ]
  },
  {
   "cell_type": "code",
   "execution_count": 6,
   "metadata": {
    "execution": {
     "iopub.execute_input": "2022-02-09T08:58:28.793445Z",
     "iopub.status.busy": "2022-02-09T08:58:28.792607Z",
     "iopub.status.idle": "2022-02-09T08:58:28.795118Z",
     "shell.execute_reply": "2022-02-09T08:58:28.794658Z",
     "shell.execute_reply.started": "2022-02-09T08:57:11.976526Z"
    },
    "papermill": {
     "duration": 0.034402,
     "end_time": "2022-02-09T08:58:28.795235",
     "exception": false,
     "start_time": "2022-02-09T08:58:28.760833",
     "status": "completed"
    },
    "tags": []
   },
   "outputs": [],
   "source": [
    "#Download file arial.ttf from https://ultralytics.com/assets/Arial.ttf  needed for inference.\n",
    "#More information in https://www.kaggle.com/c/tensorflow-great-barrier-reef/discussion/297747"
   ]
  },
  {
   "cell_type": "code",
   "execution_count": 7,
   "metadata": {
    "execution": {
     "iopub.execute_input": "2022-02-09T08:58:28.857931Z",
     "iopub.status.busy": "2022-02-09T08:58:28.857196Z",
     "iopub.status.idle": "2022-02-09T08:58:30.352575Z",
     "shell.execute_reply": "2022-02-09T08:58:30.352009Z",
     "shell.execute_reply.started": "2022-02-09T08:57:11.982588Z"
    },
    "papermill": {
     "duration": 1.528192,
     "end_time": "2022-02-09T08:58:30.352708",
     "exception": false,
     "start_time": "2022-02-09T08:58:28.824516",
     "status": "completed"
    },
    "tags": []
   },
   "outputs": [],
   "source": [
    "!mkdir -p /root/.config/Ultralytics \n",
    "!cp ../input/arialttf/Arial.ttf /root/.config/Ultralytics/"
   ]
  },
  {
   "cell_type": "code",
   "execution_count": 8,
   "metadata": {
    "execution": {
     "iopub.execute_input": "2022-02-09T08:58:30.425676Z",
     "iopub.status.busy": "2022-02-09T08:58:30.424082Z",
     "iopub.status.idle": "2022-02-09T08:58:30.428834Z",
     "shell.execute_reply": "2022-02-09T08:58:30.428182Z",
     "shell.execute_reply.started": "2022-02-09T08:57:13.338356Z"
    },
    "papermill": {
     "duration": 0.043806,
     "end_time": "2022-02-09T08:58:30.428983",
     "exception": false,
     "start_time": "2022-02-09T08:58:30.385177",
     "status": "completed"
    },
    "tags": []
   },
   "outputs": [
    {
     "name": "stdout",
     "output_type": "stream",
     "text": [
      "/kaggle\n"
     ]
    }
   ],
   "source": [
    "cd .."
   ]
  },
  {
   "cell_type": "code",
   "execution_count": 9,
   "metadata": {
    "execution": {
     "iopub.execute_input": "2022-02-09T08:58:30.494614Z",
     "iopub.status.busy": "2022-02-09T08:58:30.494130Z",
     "iopub.status.idle": "2022-02-09T08:58:30.498922Z",
     "shell.execute_reply": "2022-02-09T08:58:30.499444Z",
     "shell.execute_reply.started": "2022-02-09T08:57:13.348119Z"
    },
    "papermill": {
     "duration": 0.038552,
     "end_time": "2022-02-09T08:58:30.499604",
     "exception": false,
     "start_time": "2022-02-09T08:58:30.461052",
     "status": "completed"
    },
    "tags": []
   },
   "outputs": [
    {
     "name": "stdout",
     "output_type": "stream",
     "text": [
      "/kaggle/input\n"
     ]
    }
   ],
   "source": [
    "cd input"
   ]
  },
  {
   "cell_type": "code",
   "execution_count": 10,
   "metadata": {
    "execution": {
     "iopub.execute_input": "2022-02-09T08:58:30.564463Z",
     "iopub.status.busy": "2022-02-09T08:58:30.563926Z",
     "iopub.status.idle": "2022-02-09T08:58:30.573175Z",
     "shell.execute_reply": "2022-02-09T08:58:30.573753Z",
     "shell.execute_reply.started": "2022-02-09T08:57:13.362918Z"
    },
    "papermill": {
     "duration": 0.043742,
     "end_time": "2022-02-09T08:58:30.573927",
     "exception": false,
     "start_time": "2022-02-09T08:58:30.530185",
     "status": "completed"
    },
    "tags": []
   },
   "outputs": [
    {
     "name": "stdout",
     "output_type": "stream",
     "text": [
      "/kaggle/input/yolov5\n",
      "/kaggle/input/yolov5/yolov5\n"
     ]
    }
   ],
   "source": [
    "%cd yolov5\n",
    "%cd yolov5"
   ]
  },
  {
   "cell_type": "code",
   "execution_count": 11,
   "metadata": {
    "execution": {
     "iopub.execute_input": "2022-02-09T08:58:30.637011Z",
     "iopub.status.busy": "2022-02-09T08:58:30.636166Z",
     "iopub.status.idle": "2022-02-09T08:58:30.639758Z",
     "shell.execute_reply": "2022-02-09T08:58:30.640291Z",
     "shell.execute_reply.started": "2022-02-09T08:57:13.377007Z"
    },
    "papermill": {
     "duration": 0.036537,
     "end_time": "2022-02-09T08:58:30.640455",
     "exception": false,
     "start_time": "2022-02-09T08:58:30.603918",
     "status": "completed"
    },
    "tags": []
   },
   "outputs": [
    {
     "name": "stdout",
     "output_type": "stream",
     "text": [
      "/kaggle/input/yolov5\n"
     ]
    }
   ],
   "source": [
    "cd .."
   ]
  },
  {
   "cell_type": "code",
   "execution_count": 12,
   "metadata": {
    "execution": {
     "iopub.execute_input": "2022-02-09T08:58:30.706653Z",
     "iopub.status.busy": "2022-02-09T08:58:30.706006Z",
     "iopub.status.idle": "2022-02-09T08:58:30.709662Z",
     "shell.execute_reply": "2022-02-09T08:58:30.709001Z",
     "shell.execute_reply.started": "2022-02-09T08:57:13.386636Z"
    },
    "papermill": {
     "duration": 0.039612,
     "end_time": "2022-02-09T08:58:30.709809",
     "exception": false,
     "start_time": "2022-02-09T08:58:30.670197",
     "status": "completed"
    },
    "tags": []
   },
   "outputs": [
    {
     "name": "stdout",
     "output_type": "stream",
     "text": [
      "/kaggle/working\n"
     ]
    }
   ],
   "source": [
    "cd /kaggle/working"
   ]
  },
  {
   "cell_type": "code",
   "execution_count": 13,
   "metadata": {
    "execution": {
     "iopub.execute_input": "2022-02-09T08:58:30.772827Z",
     "iopub.status.busy": "2022-02-09T08:58:30.771513Z",
     "iopub.status.idle": "2022-02-09T08:58:30.775705Z",
     "shell.execute_reply": "2022-02-09T08:58:30.775296Z",
     "shell.execute_reply.started": "2022-02-09T08:57:13.396540Z"
    },
    "papermill": {
     "duration": 0.035884,
     "end_time": "2022-02-09T08:58:30.775832",
     "exception": false,
     "start_time": "2022-02-09T08:58:30.739948",
     "status": "completed"
    },
    "tags": []
   },
   "outputs": [],
   "source": [
    "#To fix error ModuleNotFoundError: No module named 'greatbarrierreef.competition'\n",
    "#Link is https://www.kaggle.com/c/tensorflow-great-barrier-reef/discussion/291547\n",
    "import sys\n",
    "sys.path.append('../input/tensorflow-great-barrier-reef') "
   ]
  },
  {
   "cell_type": "code",
   "execution_count": 14,
   "metadata": {
    "execution": {
     "iopub.execute_input": "2022-02-09T08:58:30.838958Z",
     "iopub.status.busy": "2022-02-09T08:58:30.838247Z",
     "iopub.status.idle": "2022-02-09T08:58:30.840577Z",
     "shell.execute_reply": "2022-02-09T08:58:30.840162Z",
     "shell.execute_reply.started": "2022-02-09T08:57:13.408713Z"
    },
    "papermill": {
     "duration": 0.035537,
     "end_time": "2022-02-09T08:58:30.840674",
     "exception": false,
     "start_time": "2022-02-09T08:58:30.805137",
     "status": "completed"
    },
    "tags": []
   },
   "outputs": [],
   "source": [
    "# rm -rf /kaggle/working/test_images"
   ]
  },
  {
   "cell_type": "code",
   "execution_count": 15,
   "metadata": {
    "execution": {
     "iopub.execute_input": "2022-02-09T08:58:30.903954Z",
     "iopub.status.busy": "2022-02-09T08:58:30.903309Z",
     "iopub.status.idle": "2022-02-09T08:58:30.905422Z",
     "shell.execute_reply": "2022-02-09T08:58:30.905911Z",
     "shell.execute_reply.started": "2022-02-09T08:57:13.416420Z"
    },
    "papermill": {
     "duration": 0.035854,
     "end_time": "2022-02-09T08:58:30.906035",
     "exception": false,
     "start_time": "2022-02-09T08:58:30.870181",
     "status": "completed"
    },
    "tags": []
   },
   "outputs": [],
   "source": [
    "#Create test_images folder\n",
    "from PIL import Image\n",
    "if not os.path.exists('/kaggle/working/test_images'):\n",
    "    os.makedirs('/kaggle/working/test_images')\n",
    "\n",
    "#To inspect images by saving them first\n",
    "\n",
    "# import greatbarrierreef\n",
    "# env = greatbarrierreef.make_env()   # initialize the environment\n",
    "# iter_test = env.iter_test()    # an iterator which loops over the test set and sample submission\n",
    "# counting=0\n",
    "\n",
    "# ar1=np.zeros((720,1280,3))\n",
    "# ar2=np.zeros((720,1280,3))\n",
    "\n",
    "# for (pixel_array, sample_prediction_df) in iter_test:\n",
    "#     print(pixel_array.shape)\n",
    "#     counting=counting+1\n",
    "#     print(counting)\n",
    "#     if counting==1:\n",
    "#          ar1=pixel_array\n",
    "#     elif counting==2:\n",
    "#          ar2=pixel_array\n",
    "#     im = Image.fromarray(pixel_array)\n",
    "# #         idx=idx+1\n",
    "#     im.save('/kaggle/working/test_images/'+str(counting)+\".jpeg\")\n",
    "    \n",
    "#     sample_prediction_df['annotations'] = '0.5 0 0 100 100'  # make your predictions here\n",
    "#     env.predict(sample_prediction_df)   # register your predictions"
   ]
  },
  {
   "cell_type": "code",
   "execution_count": 16,
   "metadata": {
    "execution": {
     "iopub.execute_input": "2022-02-09T08:58:30.968946Z",
     "iopub.status.busy": "2022-02-09T08:58:30.968135Z",
     "iopub.status.idle": "2022-02-09T08:58:30.971572Z",
     "shell.execute_reply": "2022-02-09T08:58:30.972185Z",
     "shell.execute_reply.started": "2022-02-09T08:57:13.427136Z"
    },
    "papermill": {
     "duration": 0.036655,
     "end_time": "2022-02-09T08:58:30.972346",
     "exception": false,
     "start_time": "2022-02-09T08:58:30.935691",
     "status": "completed"
    },
    "tags": []
   },
   "outputs": [
    {
     "name": "stdout",
     "output_type": "stream",
     "text": [
      "/kaggle\n"
     ]
    }
   ],
   "source": [
    "cd .."
   ]
  },
  {
   "cell_type": "code",
   "execution_count": 17,
   "metadata": {
    "execution": {
     "iopub.execute_input": "2022-02-09T08:58:31.035911Z",
     "iopub.status.busy": "2022-02-09T08:58:31.035047Z",
     "iopub.status.idle": "2022-02-09T08:58:31.038956Z",
     "shell.execute_reply": "2022-02-09T08:58:31.039519Z",
     "shell.execute_reply.started": "2022-02-09T08:57:13.439810Z"
    },
    "papermill": {
     "duration": 0.037116,
     "end_time": "2022-02-09T08:58:31.039671",
     "exception": false,
     "start_time": "2022-02-09T08:58:31.002555",
     "status": "completed"
    },
    "tags": []
   },
   "outputs": [
    {
     "name": "stdout",
     "output_type": "stream",
     "text": [
      "/kaggle/input\n"
     ]
    }
   ],
   "source": [
    "cd input"
   ]
  },
  {
   "cell_type": "code",
   "execution_count": 18,
   "metadata": {
    "execution": {
     "iopub.execute_input": "2022-02-09T08:58:31.103717Z",
     "iopub.status.busy": "2022-02-09T08:58:31.102856Z",
     "iopub.status.idle": "2022-02-09T08:58:31.107274Z",
     "shell.execute_reply": "2022-02-09T08:58:31.106674Z",
     "shell.execute_reply.started": "2022-02-09T08:57:13.450384Z"
    },
    "papermill": {
     "duration": 0.037321,
     "end_time": "2022-02-09T08:58:31.107407",
     "exception": false,
     "start_time": "2022-02-09T08:58:31.070086",
     "status": "completed"
    },
    "tags": []
   },
   "outputs": [
    {
     "name": "stdout",
     "output_type": "stream",
     "text": [
      "/kaggle/input/yolov5/yolov5\n"
     ]
    }
   ],
   "source": [
    "cd yolov5/yolov5"
   ]
  },
  {
   "cell_type": "code",
   "execution_count": 19,
   "metadata": {
    "execution": {
     "iopub.execute_input": "2022-02-09T08:58:31.184861Z",
     "iopub.status.busy": "2022-02-09T08:58:31.183863Z",
     "iopub.status.idle": "2022-02-09T08:58:31.186380Z",
     "shell.execute_reply": "2022-02-09T08:58:31.185648Z",
     "shell.execute_reply.started": "2022-02-09T08:57:13.461243Z"
    },
    "papermill": {
     "duration": 0.047422,
     "end_time": "2022-02-09T08:58:31.186544",
     "exception": false,
     "start_time": "2022-02-09T08:58:31.139122",
     "status": "completed"
    },
    "tags": []
   },
   "outputs": [],
   "source": [
    "# Run inference on saved images\n",
    "\n",
    "path=\"/kaggle/working/test_images/\"\n",
    "# path2=\"C:/Users/soyrl/Desktop/yolov5/data/reef.yaml\"\n",
    "# path3=path+'results/'\n",
    "# !python detect.py --weights /kaggle/input/models/run1.pt /kaggle/input/modelsbig/val2big.pt /kaggle/input/modelsbig/val1big.pt --img 1280 --conf 0.01 --source $path --max-det 20 --save-txt --save-conf --augment --project $path --name results\n",
    "\n",
    "# --device 0 \n",
    "#--data $path2\n",
    "\n",
    "# train_csv_path=base_path_data+\"train.csv\" #Set path to train.csv file\n",
    "# train_csv=pd.read_csv(train_csv_path) #Load train_csv file to dataframe\n",
    "# for file in os.listdir(path):\n",
    "#     if 'results'!=file:\n",
    "#         print(file)\n",
    "#         series=train_csv[train_csv['video_frame']==int(file[:-4])]['video_id']==int(i)\n",
    "#         print(train_csv.iloc[series[series].index[0]]) #.to_markdown()\n",
    "#         print('\\n')"
   ]
  },
  {
   "cell_type": "code",
   "execution_count": 20,
   "metadata": {
    "execution": {
     "iopub.execute_input": "2022-02-09T08:58:31.328633Z",
     "iopub.status.busy": "2022-02-09T08:58:31.326340Z",
     "iopub.status.idle": "2022-02-09T08:58:31.331689Z",
     "shell.execute_reply": "2022-02-09T08:58:31.330951Z",
     "shell.execute_reply.started": "2022-02-09T08:57:13.467968Z"
    },
    "papermill": {
     "duration": 0.075586,
     "end_time": "2022-02-09T08:58:31.331959",
     "exception": false,
     "start_time": "2022-02-09T08:58:31.256373",
     "status": "completed"
    },
    "tags": []
   },
   "outputs": [
    {
     "name": "stdout",
     "output_type": "stream",
     "text": [
      "/kaggle/working/test_images\n"
     ]
    }
   ],
   "source": [
    "cd /kaggle/working/test_images"
   ]
  },
  {
   "cell_type": "code",
   "execution_count": 21,
   "metadata": {
    "execution": {
     "iopub.execute_input": "2022-02-09T08:58:31.447492Z",
     "iopub.status.busy": "2022-02-09T08:58:31.446582Z",
     "iopub.status.idle": "2022-02-09T08:58:31.448964Z",
     "shell.execute_reply": "2022-02-09T08:58:31.448256Z",
     "shell.execute_reply.started": "2022-02-09T08:57:13.479706Z"
    },
    "papermill": {
     "duration": 0.063011,
     "end_time": "2022-02-09T08:58:31.449127",
     "exception": false,
     "start_time": "2022-02-09T08:58:31.386116",
     "status": "completed"
    },
    "tags": []
   },
   "outputs": [],
   "source": [
    "#Problem when compare resulted images from each model compared to all combined!\n",
    "#Seems like boxes are detected only from run1\n",
    "\n",
    "# img=cv2.imread('/kaggle/working/test_images/results/3.jpeg') #Load image with most annotations #12679\n",
    "# img=cv2.cvtColor(img, cv2.COLOR_BGR2RGB)\n",
    "# plt.imshow(img)"
   ]
  },
  {
   "cell_type": "code",
   "execution_count": 22,
   "metadata": {
    "execution": {
     "iopub.execute_input": "2022-02-09T08:58:31.563889Z",
     "iopub.status.busy": "2022-02-09T08:58:31.562894Z",
     "iopub.status.idle": "2022-02-09T08:58:31.565311Z",
     "shell.execute_reply": "2022-02-09T08:58:31.564612Z",
     "shell.execute_reply.started": "2022-02-09T08:57:13.488473Z"
    },
    "papermill": {
     "duration": 0.062273,
     "end_time": "2022-02-09T08:58:31.565476",
     "exception": false,
     "start_time": "2022-02-09T08:58:31.503203",
     "status": "completed"
    },
    "tags": []
   },
   "outputs": [],
   "source": [
    "#aaa"
   ]
  },
  {
   "cell_type": "code",
   "execution_count": 23,
   "metadata": {
    "execution": {
     "iopub.execute_input": "2022-02-09T08:58:31.676968Z",
     "iopub.status.busy": "2022-02-09T08:58:31.676100Z",
     "iopub.status.idle": "2022-02-09T08:58:31.679365Z",
     "shell.execute_reply": "2022-02-09T08:58:31.677648Z",
     "shell.execute_reply.started": "2022-02-09T08:57:13.498327Z"
    },
    "papermill": {
     "duration": 0.061158,
     "end_time": "2022-02-09T08:58:31.679520",
     "exception": false,
     "start_time": "2022-02-09T08:58:31.618362",
     "status": "completed"
    },
    "tags": []
   },
   "outputs": [
    {
     "name": "stdout",
     "output_type": "stream",
     "text": [
      "/kaggle/working\n"
     ]
    }
   ],
   "source": [
    "cd .."
   ]
  },
  {
   "cell_type": "code",
   "execution_count": 25,
   "metadata": {
    "execution": {
     "iopub.execute_input": "2022-02-09T08:58:31.877903Z",
     "iopub.status.busy": "2022-02-09T08:58:31.872722Z",
     "iopub.status.idle": "2022-02-09T08:58:31.985239Z",
     "shell.execute_reply": "2022-02-09T08:58:31.984632Z",
     "shell.execute_reply.started": "2022-02-09T08:57:13.514923Z"
    },
    "papermill": {
     "duration": 0.166416,
     "end_time": "2022-02-09T08:58:31.985370",
     "exception": false,
     "start_time": "2022-02-09T08:58:31.818954",
     "status": "completed"
    },
    "tags": []
   },
   "outputs": [],
   "source": [
    "#Functions to convert annotations to different formats and draw images and boxes\n",
    "\n",
    "def voc2yolo(bboxes, image_height=720, image_width=1280):\n",
    "    \"\"\"\n",
    "    voc  => [x1, y1, x2, y1]\n",
    "    yolo => [xmid, ymid, w, h] (normalized)\n",
    "    \"\"\"\n",
    "    \n",
    "    bboxes = bboxes.copy().astype(float) # otherwise all value will be 0 as voc_pascal dtype is np.int\n",
    "    \n",
    "    bboxes[..., [0, 2]] = bboxes[..., [0, 2]]/ image_width\n",
    "    bboxes[..., [1, 3]] = bboxes[..., [1, 3]]/ image_height\n",
    "    \n",
    "    w = bboxes[..., 2] - bboxes[..., 0]\n",
    "    h = bboxes[..., 3] - bboxes[..., 1]\n",
    "    \n",
    "    bboxes[..., 0] = bboxes[..., 0] + w/2\n",
    "    bboxes[..., 1] = bboxes[..., 1] + h/2\n",
    "    bboxes[..., 2] = w\n",
    "    bboxes[..., 3] = h\n",
    "    \n",
    "    return bboxes\n",
    "\n",
    "def yolo2voc(bboxes, image_height=720, image_width=1280):\n",
    "    \"\"\"\n",
    "    yolo => [xmid, ymid, w, h] (normalized)\n",
    "    voc  => [x1, y1, x2, y1]\n",
    "    \n",
    "    \"\"\" \n",
    "    bboxes = bboxes.copy().astype(float) # otherwise all value will be 0 as voc_pascal dtype is np.int\n",
    "    \n",
    "    bboxes[..., [0, 2]] = bboxes[..., [0, 2]]* image_width\n",
    "    bboxes[..., [1, 3]] = bboxes[..., [1, 3]]* image_height\n",
    "    \n",
    "    bboxes[..., [0, 1]] = bboxes[..., [0, 1]] - bboxes[..., [2, 3]]/2\n",
    "    bboxes[..., [2, 3]] = bboxes[..., [0, 1]] + bboxes[..., [2, 3]]\n",
    "    \n",
    "    return bboxes\n",
    "\n",
    "def coco2yolo(bboxes, image_height=720, image_width=1280):\n",
    "    \"\"\"\n",
    "    coco => [xmin, ymin, w, h]\n",
    "    yolo => [xmid, ymid, w, h] (normalized)\n",
    "    \"\"\"\n",
    "    \n",
    "    bboxes = bboxes.copy().astype(float) # otherwise all value will be 0 as voc_pascal dtype is np.int\n",
    "    \n",
    "    # normolizinig\n",
    "    bboxes[..., [0, 2]]= bboxes[..., [0, 2]]/ image_width\n",
    "    bboxes[..., [1, 3]]= bboxes[..., [1, 3]]/ image_height\n",
    "    \n",
    "    # converstion (xmin, ymin) => (xmid, ymid)\n",
    "    bboxes[..., [0, 1]] = bboxes[..., [0, 1]] + bboxes[..., [2, 3]]/2\n",
    "    \n",
    "    return bboxes\n",
    "\n",
    "def yolo2coco(bboxes, image_height=720, image_width=1280):\n",
    "    \"\"\"\n",
    "    yolo => [xmid, ymid, w, h] (normalized)\n",
    "    coco => [xmin, ymin, w, h]\n",
    "    \n",
    "    \"\"\" \n",
    "    bboxes = bboxes.copy().astype(float) # otherwise all value will be 0 as voc_pascal dtype is np.int\n",
    "    \n",
    "    # denormalizing\n",
    "    bboxes[..., [0, 2]]= bboxes[..., [0, 2]]* image_width\n",
    "    bboxes[..., [1, 3]]= bboxes[..., [1, 3]]* image_height\n",
    "    \n",
    "    # converstion (xmid, ymid) => (xmin, ymin) \n",
    "    bboxes[..., [0, 1]] = bboxes[..., [0, 1]] - bboxes[..., [2, 3]]/2\n",
    "    \n",
    "    return bboxes\n",
    "\n",
    "def voc2coco(bboxes, image_height=720, image_width=1280):\n",
    "    bboxes  = voc2yolo(bboxes, image_height, image_width)\n",
    "    bboxes  = yolo2coco(bboxes, image_height, image_width)\n",
    "    return bboxes\n",
    "\n",
    "\n",
    "def load_image(image_path):\n",
    "    return cv2.cvtColor(cv2.imread(image_path), cv2.COLOR_BGR2RGB)\n",
    "\n",
    "\n",
    "def plot_one_box(x, img, color=None, label=None, line_thickness=None):\n",
    "    # Plots one bounding box on image img\n",
    "    tl = line_thickness or round(0.002 * (img.shape[0] + img.shape[1]) / 2) + 1  # line/font thickness\n",
    "    color = color or [random.randint(0, 255) for _ in range(3)]\n",
    "    c1, c2 = (int(x[0]), int(x[1])), (int(x[2]), int(x[3]))\n",
    "    cv2.rectangle(img, c1, c2, color, thickness=tl, lineType=cv2.LINE_AA)\n",
    "    if label:\n",
    "        tf = max(tl - 1, 1)  # font thickness\n",
    "        t_size = cv2.getTextSize(label, 0, fontScale=tl / 3, thickness=tf)[0]\n",
    "        c2 = c1[0] + t_size[0], c1[1] - t_size[1] - 3\n",
    "        cv2.rectangle(img, c1, c2, color, -1, cv2.LINE_AA)  # filled\n",
    "        cv2.putText(img, label, (c1[0], c1[1] - 2), 0, tl / 3, [225, 255, 255], thickness=tf, lineType=cv2.LINE_AA)\n",
    "\n",
    "def draw_bboxes(img, bboxes, classes, class_ids, colors = None, show_classes = None, bbox_format = 'yolo', class_name = False, line_thickness = 2):  \n",
    "     \n",
    "    image = img.copy()\n",
    "    show_classes = classes if show_classes is None else show_classes\n",
    "    colors = (0, 255 ,0) if colors is None else colors\n",
    "    \n",
    "    if bbox_format == 'yolo':\n",
    "        \n",
    "        for idx in range(len(bboxes)):  \n",
    "            \n",
    "            bbox  = bboxes[idx]\n",
    "            cls   = classes[idx]\n",
    "            cls_id = class_ids[idx]\n",
    "            color = colors[cls_id] if type(colors) is list else colors\n",
    "            \n",
    "            if cls in show_classes:\n",
    "            \n",
    "                x1 = round(float(bbox[0])*image.shape[1])\n",
    "                y1 = round(float(bbox[1])*image.shape[0])\n",
    "                w  = round(float(bbox[2])*image.shape[1]/2) #w/2 \n",
    "                h  = round(float(bbox[3])*image.shape[0]/2)\n",
    "\n",
    "                voc_bbox = (x1-w, y1-h, x1+w, y1+h)\n",
    "                plot_one_box(voc_bbox, \n",
    "                             image,\n",
    "                             color = color,\n",
    "                             label = cls if class_name else str(get_label(cls)),\n",
    "                             line_thickness = line_thickness)\n",
    "            \n",
    "    elif bbox_format == 'coco':\n",
    "        \n",
    "        for idx in range(len(bboxes)):  \n",
    "            \n",
    "            bbox  = bboxes[idx]\n",
    "            cls   = classes[idx]\n",
    "            cls_id = class_ids[idx]\n",
    "            color = colors[cls_id] if type(colors) is list else colors\n",
    "            \n",
    "            if cls in show_classes:            \n",
    "                x1 = int(round(bbox[0]))\n",
    "                y1 = int(round(bbox[1]))\n",
    "                w  = int(round(bbox[2]))\n",
    "                h  = int(round(bbox[3]))\n",
    "\n",
    "                voc_bbox = (x1, y1, x1+w, y1+h)\n",
    "                plot_one_box(voc_bbox, \n",
    "                             image,\n",
    "                             color = color,\n",
    "                             label = cls if class_name else str(cls_id),\n",
    "                             line_thickness = line_thickness)\n",
    "\n",
    "    elif bbox_format == 'voc_pascal':\n",
    "        \n",
    "        for idx in range(len(bboxes)):  \n",
    "            \n",
    "            bbox  = bboxes[idx]\n",
    "            cls   = classes[idx]\n",
    "            cls_id = class_ids[idx]\n",
    "            color = colors[cls_id] if type(colors) is list else colors\n",
    "            \n",
    "            if cls in show_classes: \n",
    "                x1 = int(round(bbox[0]))\n",
    "                y1 = int(round(bbox[1]))\n",
    "                x2 = int(round(bbox[2]))\n",
    "                y2 = int(round(bbox[3]))\n",
    "                voc_bbox = (x1, y1, x2, y2)\n",
    "                plot_one_box(voc_bbox, \n",
    "                             image,\n",
    "                             color = color,\n",
    "                             label = cls if class_name else str(cls_id),\n",
    "                             line_thickness = line_thickness)\n",
    "    else:\n",
    "        raise ValueError('wrong bbox format')\n",
    "\n",
    "    return image\n",
    "\n",
    "def get_bbox(annots):\n",
    "    bboxes = [list(annot.values()) for annot in annots]\n",
    "    return bboxes\n",
    "\n",
    "def get_imgsize(row):\n",
    "    row['width'], row['height'] = imagesize.get(row['image_path'])\n",
    "    return row\n",
    "\n",
    "\n",
    "np.random.seed(8)\n",
    "colors = (np.random.randint(0, 255), np.random.randint(0, 255), np.random.randint(0, 255))\n",
    "colors=(255,0,0)"
   ]
  },
  {
   "cell_type": "code",
   "execution_count": 26,
   "metadata": {
    "execution": {
     "iopub.execute_input": "2022-02-09T08:58:32.059796Z",
     "iopub.status.busy": "2022-02-09T08:58:32.055217Z",
     "iopub.status.idle": "2022-02-09T08:58:32.062202Z",
     "shell.execute_reply": "2022-02-09T08:58:32.061771Z",
     "shell.execute_reply.started": "2022-02-09T08:57:13.559350Z"
    },
    "papermill": {
     "duration": 0.046064,
     "end_time": "2022-02-09T08:58:32.062304",
     "exception": false,
     "start_time": "2022-02-09T08:58:32.016240",
     "status": "completed"
    },
    "tags": []
   },
   "outputs": [],
   "source": [
    "#Functions to load model, make predictions, format them appropriately and show them\n",
    "\n",
    "def load_model(Best_Model, conf=0.25, iou=0.50):\n",
    "    import os\n",
    "    print(os.listdir())\n",
    "    model = torch.hub.load('.',#'/kaggle/input/barrie-reef-yolo5/yolov5', #./yolov5 #../input/yolov5/yolov5/\n",
    "                           'custom',\n",
    "                           path=Best_Model,\n",
    "                           source='local',\n",
    "                           force_reload=True)  # local repo\n",
    "    model.conf = conf  # NMS confidence threshold\n",
    "    model.iou  = iou  # NMS IoU threshold\n",
    "    model.classes = None   # (optional list) filter by class, i.e. = [0, 15, 16] for persons, cats and dogs\n",
    "    model.multi_label = False  # NMS multiple labels per box\n",
    "    model.max_det = 1000  # maximum number of detections per image\n",
    "#     print(model)\n",
    "    return model\n",
    "\n",
    "\n",
    "def predict(model, img, size=1280, augment=False): #size was 768\n",
    "    height, width = img.shape[:2]\n",
    "#     print(height)\n",
    "    results = model(img, size=size, augment=augment)  # custom inference size\n",
    "#     print(results)\n",
    "#     print(\"above predict results\")\n",
    "    preds   = results.pandas().xyxy[0]\n",
    "    bboxes  = preds[['xmin','ymin','xmax','ymax']].values\n",
    "#     bboxes=np.round(bboxes)\n",
    "#     print(bboxes)\n",
    "    print(\"bboxes are {}\".format(bboxes))\n",
    "\n",
    "    if len(bboxes):\n",
    "#         print(bboxes)\n",
    "        bboxes  = voc2coco(bboxes,height,width).astype(int)\n",
    "        confs   = preds.confidence.values\n",
    "        print(\"Confidence values are {}\".format(confs))\n",
    "\n",
    "        return bboxes, confs\n",
    "    else:\n",
    "        return [],[]\n",
    "    \n",
    "def format_prediction(bboxes, confs):\n",
    "    annot = ''\n",
    "    if len(bboxes)>0:\n",
    "        for idx in range(len(bboxes)):\n",
    "            xmin, ymin, w, h = bboxes[idx]\n",
    "            conf             = confs[idx]\n",
    "            annot += f'{conf} {xmin} {ymin} {w} {h}'\n",
    "            annot +=' '\n",
    "        annot = annot.strip(' ')\n",
    "    return annot\n",
    "\n",
    "def show_img(img, bboxes, bbox_format='yolo'):\n",
    "    names  = ['starfish']*len(bboxes)\n",
    "    labels = [0]*len(bboxes)\n",
    "    img    = draw_bboxes(img = img,\n",
    "                           bboxes = bboxes, \n",
    "                           classes = names,\n",
    "                           class_ids = labels,\n",
    "                           class_name = True, \n",
    "                           colors = colors, \n",
    "                           bbox_format = bbox_format,\n",
    "                           line_thickness = 2)\n",
    "    return Image.fromarray(img).resize((800, 400))"
   ]
  },
  {
   "cell_type": "code",
   "execution_count": 27,
   "metadata": {
    "execution": {
     "iopub.execute_input": "2022-02-09T08:58:32.127715Z",
     "iopub.status.busy": "2022-02-09T08:58:32.126933Z",
     "iopub.status.idle": "2022-02-09T08:58:32.130761Z",
     "shell.execute_reply": "2022-02-09T08:58:32.131434Z",
     "shell.execute_reply.started": "2022-02-09T08:57:13.578566Z"
    },
    "papermill": {
     "duration": 0.038715,
     "end_time": "2022-02-09T08:58:32.131592",
     "exception": false,
     "start_time": "2022-02-09T08:58:32.092877",
     "status": "completed"
    },
    "tags": []
   },
   "outputs": [
    {
     "name": "stdout",
     "output_type": "stream",
     "text": [
      "/kaggle\n"
     ]
    }
   ],
   "source": [
    "cd .."
   ]
  },
  {
   "cell_type": "code",
   "execution_count": 28,
   "metadata": {
    "execution": {
     "iopub.execute_input": "2022-02-09T08:58:32.198647Z",
     "iopub.status.busy": "2022-02-09T08:58:32.197827Z",
     "iopub.status.idle": "2022-02-09T08:58:32.201222Z",
     "shell.execute_reply": "2022-02-09T08:58:32.201761Z",
     "shell.execute_reply.started": "2022-02-09T08:57:13.595649Z"
    },
    "papermill": {
     "duration": 0.038093,
     "end_time": "2022-02-09T08:58:32.201921",
     "exception": false,
     "start_time": "2022-02-09T08:58:32.163828",
     "status": "completed"
    },
    "tags": []
   },
   "outputs": [
    {
     "name": "stdout",
     "output_type": "stream",
     "text": [
      "/kaggle/input/yolov5/yolov5\n"
     ]
    }
   ],
   "source": [
    "cd input/yolov5/yolov5"
   ]
  },
  {
   "cell_type": "markdown",
   "metadata": {
    "papermill": {
     "duration": 0.030943,
     "end_time": "2022-02-09T08:58:32.264959",
     "exception": false,
     "start_time": "2022-02-09T08:58:32.234016",
     "status": "completed"
    },
    "tags": []
   },
   "source": [
    "#### Inference on one model only - https://www.kaggle.com/ammarnassanalhajali/barrier-reef-yolov5-inference\n",
    "\n",
    "#### Error fix taken from https://www.kaggle.com/questions-and-answers/70138"
   ]
  },
  {
   "cell_type": "code",
   "execution_count": null,
   "metadata": {},
   "outputs": [],
   "source": [
    "# cd /kaggle/working/"
   ]
  },
  {
   "cell_type": "code",
   "execution_count": 29,
   "metadata": {
    "execution": {
     "iopub.execute_input": "2022-02-09T08:58:32.331228Z",
     "iopub.status.busy": "2022-02-09T08:58:32.330488Z",
     "iopub.status.idle": "2022-02-09T08:58:32.332985Z",
     "shell.execute_reply": "2022-02-09T08:58:32.332533Z",
     "shell.execute_reply.started": "2022-02-09T08:57:13.603430Z"
    },
    "papermill": {
     "duration": 0.03659,
     "end_time": "2022-02-09T08:58:32.333093",
     "exception": false,
     "start_time": "2022-02-09T08:58:32.296503",
     "status": "completed"
    },
    "tags": []
   },
   "outputs": [],
   "source": [
    "# Best_Model = model_path"
   ]
  },
  {
   "cell_type": "code",
   "execution_count": 30,
   "metadata": {
    "execution": {
     "iopub.execute_input": "2022-02-09T08:58:32.399946Z",
     "iopub.status.busy": "2022-02-09T08:58:32.399218Z",
     "iopub.status.idle": "2022-02-09T08:58:32.401147Z",
     "shell.execute_reply": "2022-02-09T08:58:32.401535Z",
     "shell.execute_reply.started": "2022-02-09T08:57:13.613107Z"
    },
    "papermill": {
     "duration": 0.037001,
     "end_time": "2022-02-09T08:58:32.401648",
     "exception": false,
     "start_time": "2022-02-09T08:58:32.364647",
     "status": "completed"
    },
    "tags": []
   },
   "outputs": [],
   "source": [
    "# import greatbarrierreef\n",
    "# env = greatbarrierreef.make_env()# initialize the environment\n",
    "# iter_test = env.iter_test()      # an iterator which loops over the test set and sample submission\n",
    "\n",
    "# import torch\n",
    "# from tqdm import tqdm\n",
    "# from PIL import Image\n",
    "\n",
    "# IMG_SIZE=1280\n",
    "\n",
    "# CONF= 0.2\n",
    "# IOU= 0.7\n",
    "\n",
    "# model = load_model(Best_Model, conf=CONF, iou=IOU)\n",
    "\n",
    "# only activate next for one model - taken from https://www.kaggle.com/questions-and-answers/70138\n",
    "\n",
    "# for idx, (img, pred_df) in enumerate(tqdm(iter_test)):\n",
    "# #     print(img.shape)\n",
    "#     print(pred_df)\n",
    "    \n",
    "#     bboxes, confs  = predict(model, img, size=IMG_SIZE, augment=True )\n",
    "#     annot = format_prediction(bboxes, confs)\n",
    "#     pred_df['annotations'] = annot\n",
    "#     print(\"Final annotations are {}\".format(annot))\n",
    "#     env.predict(pred_df)\n",
    "#     if idx<3:\n",
    "#         display(show_img(img, bboxes, bbox_format='coco'))\n",
    "\n",
    "#read only submission file error"
   ]
  },
  {
   "cell_type": "markdown",
   "metadata": {
    "papermill": {
     "duration": 0.031365,
     "end_time": "2022-02-09T08:58:32.464157",
     "exception": false,
     "start_time": "2022-02-09T08:58:32.432792",
     "status": "completed"
    },
    "tags": []
   },
   "source": [
    "#### Inference on an ensemble of models - Locally it can be done using detect.py as shown in https://github.com/ultralytics/yolov5/issues/318"
   ]
  },
  {
   "cell_type": "code",
   "execution_count": 31,
   "metadata": {
    "execution": {
     "iopub.execute_input": "2022-02-09T08:58:32.529839Z",
     "iopub.status.busy": "2022-02-09T08:58:32.529077Z",
     "iopub.status.idle": "2022-02-09T08:58:32.531001Z",
     "shell.execute_reply": "2022-02-09T08:58:32.531396Z",
     "shell.execute_reply.started": "2022-02-09T08:57:13.622743Z"
    },
    "papermill": {
     "duration": 0.036354,
     "end_time": "2022-02-09T08:58:32.531511",
     "exception": false,
     "start_time": "2022-02-09T08:58:32.495157",
     "status": "completed"
    },
    "tags": []
   },
   "outputs": [],
   "source": [
    "#Taken from https://www.kaggle.com/c/tensorflow-great-barrier-reef/discussion/291547\n",
    "#to avoid error 'no module 'greatbarrierreef' below\n",
    "\n",
    "# import sys\n",
    "# sys.path.insert(0, base_path_data)"
   ]
  },
  {
   "cell_type": "code",
   "execution_count": 32,
   "metadata": {
    "execution": {
     "iopub.execute_input": "2022-02-09T08:58:32.600458Z",
     "iopub.status.busy": "2022-02-09T08:58:32.599764Z",
     "iopub.status.idle": "2022-02-09T08:58:43.814937Z",
     "shell.execute_reply": "2022-02-09T08:58:43.815318Z",
     "shell.execute_reply.started": "2022-02-09T08:57:13.631703Z"
    },
    "papermill": {
     "duration": 11.252577,
     "end_time": "2022-02-09T08:58:43.815467",
     "exception": false,
     "start_time": "2022-02-09T08:58:32.562890",
     "status": "completed"
    },
    "tags": []
   },
   "outputs": [
    {
     "name": "stdout",
     "output_type": "stream",
     "text": [
      "['CONTRIBUTING.md', 'train.py', 'Dockerfile', '.pre-commit-config.yaml', 'utils', 'setup.cfg', 'LICENSE', 'tutorial.ipynb', 'hubconf.py', '.gitignore', 'README.md', 'export.py', 'models', '.dockerignore', 'requirements.txt', 'val.py', '.gitattributes', '.git', 'data', 'detect.py']\n"
     ]
    },
    {
     "name": "stderr",
     "output_type": "stream",
     "text": [
      "YOLOv5 🚀 v6.0-207-g8efe977 torch 1.9.1 CUDA:0 (Tesla P100-PCIE-16GB, 16281MiB)\n",
      "\n",
      "Fusing layers... \n",
      "Model Summary: 213 layers, 7012822 parameters, 0 gradients\n",
      "Adding AutoShape... \n",
      "YOLOv5 🚀 v6.0-207-g8efe977 torch 1.9.1 CUDA:0 (Tesla P100-PCIE-16GB, 16281MiB)\n",
      "\n"
     ]
    },
    {
     "name": "stdout",
     "output_type": "stream",
     "text": [
      "['CONTRIBUTING.md', 'train.py', 'Dockerfile', '.pre-commit-config.yaml', 'utils', 'setup.cfg', 'LICENSE', 'tutorial.ipynb', 'hubconf.py', '.gitignore', 'README.md', 'export.py', 'models', '.dockerignore', 'requirements.txt', 'val.py', '.gitattributes', '.git', 'data', 'detect.py']\n"
     ]
    },
    {
     "name": "stderr",
     "output_type": "stream",
     "text": [
      "Fusing layers... \n",
      "Model Summary: 476 layers, 76118664 parameters, 0 gradients\n",
      "Adding AutoShape... \n",
      "YOLOv5 🚀 v6.0-207-g8efe977 torch 1.9.1 CUDA:0 (Tesla P100-PCIE-16GB, 16281MiB)\n",
      "\n"
     ]
    },
    {
     "name": "stdout",
     "output_type": "stream",
     "text": [
      "['CONTRIBUTING.md', 'train.py', 'Dockerfile', '.pre-commit-config.yaml', 'utils', 'setup.cfg', 'LICENSE', 'tutorial.ipynb', 'hubconf.py', '.gitignore', 'README.md', 'export.py', 'models', '.dockerignore', 'requirements.txt', 'val.py', '.gitattributes', '.git', 'data', 'detect.py']\n"
     ]
    },
    {
     "name": "stderr",
     "output_type": "stream",
     "text": [
      "Fusing layers... \n",
      "Model Summary: 476 layers, 76118664 parameters, 0 gradients\n",
      "Adding AutoShape... \n"
     ]
    }
   ],
   "source": [
    "import greatbarrierreef\n",
    "env = greatbarrierreef.make_env()# initialize the environment\n",
    "iter_test = env.iter_test()      # an iterator which loops over the test set and sample submission\n",
    "\n",
    "import torch\n",
    "from tqdm import tqdm\n",
    "from PIL import Image\n",
    "\n",
    "IMG_SIZE=1280\n",
    "\n",
    "CONF= 0.2 #0.2#was 0.15, also tried 0.05 and 0.25 and 0.3 gives error in scores!!\n",
    "IOU= 0.7 #0.70 #was 0.5 made 0.3, 0.6, 0.9 last\n",
    "\n",
    "#Each model can also have its own conf and iou!\n",
    "model1 = load_model(model_path, conf=CONF, iou=IOU)  #conf=CONF1, iou=IOU1\n",
    "model2 = load_model(model_path1, conf=CONF, iou=IOU)\n",
    "model3 = load_model(model_path2, conf=CONF, iou=IOU)"
   ]
  },
  {
   "cell_type": "code",
   "execution_count": 33,
   "metadata": {
    "execution": {
     "iopub.execute_input": "2022-02-09T08:58:43.892335Z",
     "iopub.status.busy": "2022-02-09T08:58:43.891575Z",
     "iopub.status.idle": "2022-02-09T08:58:43.894445Z",
     "shell.execute_reply": "2022-02-09T08:58:43.895121Z",
     "shell.execute_reply.started": "2022-02-09T08:57:26.989004Z"
    },
    "papermill": {
     "duration": 0.044099,
     "end_time": "2022-02-09T08:58:43.895291",
     "exception": false,
     "start_time": "2022-02-09T08:58:43.851192",
     "status": "completed"
    },
    "tags": []
   },
   "outputs": [
    {
     "name": "stdout",
     "output_type": "stream",
     "text": [
      "/kaggle/input/yolov5\n"
     ]
    }
   ],
   "source": [
    "cd .."
   ]
  },
  {
   "cell_type": "code",
   "execution_count": 34,
   "metadata": {
    "execution": {
     "iopub.execute_input": "2022-02-09T08:58:43.971424Z",
     "iopub.status.busy": "2022-02-09T08:58:43.970781Z",
     "iopub.status.idle": "2022-02-09T08:58:43.973594Z",
     "shell.execute_reply": "2022-02-09T08:58:43.974293Z",
     "shell.execute_reply.started": "2022-02-09T08:57:26.999768Z"
    },
    "papermill": {
     "duration": 0.042641,
     "end_time": "2022-02-09T08:58:43.974450",
     "exception": false,
     "start_time": "2022-02-09T08:58:43.931809",
     "status": "completed"
    },
    "tags": []
   },
   "outputs": [
    {
     "name": "stdout",
     "output_type": "stream",
     "text": [
      "/kaggle/input\n"
     ]
    }
   ],
   "source": [
    "cd .."
   ]
  },
  {
   "cell_type": "code",
   "execution_count": 35,
   "metadata": {
    "execution": {
     "iopub.execute_input": "2022-02-09T08:58:44.051218Z",
     "iopub.status.busy": "2022-02-09T08:58:44.050320Z",
     "iopub.status.idle": "2022-02-09T08:58:44.055124Z",
     "shell.execute_reply": "2022-02-09T08:58:44.054401Z",
     "shell.execute_reply.started": "2022-02-09T08:57:27.013567Z"
    },
    "papermill": {
     "duration": 0.043729,
     "end_time": "2022-02-09T08:58:44.055283",
     "exception": false,
     "start_time": "2022-02-09T08:58:44.011554",
     "status": "completed"
    },
    "tags": []
   },
   "outputs": [
    {
     "name": "stdout",
     "output_type": "stream",
     "text": [
      "/kaggle\n"
     ]
    }
   ],
   "source": [
    "cd .."
   ]
  },
  {
   "cell_type": "code",
   "execution_count": 36,
   "metadata": {
    "execution": {
     "iopub.execute_input": "2022-02-09T08:58:44.133112Z",
     "iopub.status.busy": "2022-02-09T08:58:44.132001Z",
     "iopub.status.idle": "2022-02-09T08:58:44.135147Z",
     "shell.execute_reply": "2022-02-09T08:58:44.135712Z",
     "shell.execute_reply.started": "2022-02-09T08:57:27.023771Z"
    },
    "papermill": {
     "duration": 0.043931,
     "end_time": "2022-02-09T08:58:44.135882",
     "exception": false,
     "start_time": "2022-02-09T08:58:44.091951",
     "status": "completed"
    },
    "tags": []
   },
   "outputs": [
    {
     "name": "stdout",
     "output_type": "stream",
     "text": [
      "/kaggle/working\n"
     ]
    }
   ],
   "source": [
    "cd working"
   ]
  },
  {
   "cell_type": "markdown",
   "metadata": {
    "papermill": {
     "duration": 0.035943,
     "end_time": "2022-02-09T08:58:44.209100",
     "exception": false,
     "start_time": "2022-02-09T08:58:44.173157",
     "status": "completed"
    },
    "tags": []
   },
   "source": [
    "#### Ensemble methods - taken from https://www.kaggle.com/ammarnassanalhajali/ensembling-boxes-nms-soft-nms-nmw-wbf-yolov5"
   ]
  },
  {
   "cell_type": "code",
   "execution_count": 37,
   "metadata": {
    "execution": {
     "iopub.execute_input": "2022-02-09T08:58:44.288904Z",
     "iopub.status.busy": "2022-02-09T08:58:44.288310Z",
     "iopub.status.idle": "2022-02-09T08:58:44.839621Z",
     "shell.execute_reply": "2022-02-09T08:58:44.840085Z",
     "shell.execute_reply.started": "2022-02-09T08:57:27.037041Z"
    },
    "papermill": {
     "duration": 0.59438,
     "end_time": "2022-02-09T08:58:44.840261",
     "exception": false,
     "start_time": "2022-02-09T08:58:44.245881",
     "status": "completed"
    },
    "tags": []
   },
   "outputs": [],
   "source": [
    "#Taken from https://www.kaggle.com/vgarshin/ensemble-boxes-104\n",
    "sys.path.append('../input/ensemble-boxes-104/ensemble_boxes-1.0.4')\n",
    "from ensemble_boxes import *"
   ]
  },
  {
   "cell_type": "code",
   "execution_count": 38,
   "metadata": {
    "execution": {
     "iopub.execute_input": "2022-02-09T08:58:44.927250Z",
     "iopub.status.busy": "2022-02-09T08:58:44.926577Z",
     "iopub.status.idle": "2022-02-09T08:58:44.929844Z",
     "shell.execute_reply": "2022-02-09T08:58:44.929402Z",
     "shell.execute_reply.started": "2022-02-09T08:57:27.816887Z"
    },
    "papermill": {
     "duration": 0.052661,
     "end_time": "2022-02-09T08:58:44.929952",
     "exception": false,
     "start_time": "2022-02-09T08:58:44.877291",
     "status": "completed"
    },
    "tags": []
   },
   "outputs": [],
   "source": [
    "def run_nms(bboxes, confs, image_size, iou_thr=0.50, skip_box_thr=0.0001, weights=None): #3rd classs,\n",
    "    boxes =  [bbox/(image_size-1) for bbox in bboxes]\n",
    "    scores = [conf for conf in confs]    \n",
    "    labels = [np.ones(conf.shape[0]) for conf in confs]\n",
    "    boxes, scores, labels = nms(boxes, scores, labels, weights=weights, iou_thr=iou_thr)\n",
    "    boxes = boxes*(image_size-1)\n",
    "    return boxes, scores, labels\n",
    "\n",
    "def run_nmw(bboxes, confs, image_size, iou_thr=0.50, skip_box_thr=0.0001, weights=None): #3rd classs\n",
    "    boxes =  [bbox/(image_size-1) for bbox in bboxes]\n",
    "    scores = [conf for conf in confs]    \n",
    "    labels = [np.ones(conf.shape[0]) for conf in confs]\n",
    "    boxes, scores, labels = non_maximum_weighted(boxes, scores, labels, weights=weights, iou_thr=iou_thr)\n",
    "    boxes = boxes*(image_size-1)\n",
    "    return boxes, scores, labels\n",
    "\n",
    "def run_soft_nms(bboxes, confs, image_size, iou_thr=0.50, skip_box_thr=0.0001,sigma=0.1, weights=None): #3rd classs\n",
    "    boxes =  [bbox/(image_size-1) for bbox in bboxes]\n",
    "    scores = [conf for conf in confs]    \n",
    "    labels = [np.ones(conf.shape[0]) for conf in confs]\n",
    "    boxes, scores, labels = soft_nms(boxes, scores, labels, weights=weights, iou_thr=iou_thr, sigma=sigma, thresh=skip_box_thr)\n",
    "    boxes = boxes*(image_size-1)\n",
    "    return boxes, scores, labels\n",
    "\n",
    "def run_wbf(bboxes, confs, image_size, iou_thr=0.50, skip_box_thr=0.0001, weights=None): #3rd classs\n",
    "    boxes =  [bbox/(image_size-1) for bbox in bboxes]\n",
    "    scores = [conf for conf in confs]    \n",
    "    labels = [np.ones(conf.shape[0]) for conf in confs]\n",
    "    boxes, scores, labels = weighted_boxes_fusion(boxes, scores, labels, weights=None, iou_thr=iou_thr, skip_box_thr=skip_box_thr)\n",
    "    boxes = boxes*(image_size-1)\n",
    "    return boxes, scores, labels"
   ]
  },
  {
   "cell_type": "code",
   "execution_count": 39,
   "metadata": {
    "execution": {
     "iopub.execute_input": "2022-02-09T08:58:45.017536Z",
     "iopub.status.busy": "2022-02-09T08:58:45.016725Z",
     "iopub.status.idle": "2022-02-09T08:58:50.630905Z",
     "shell.execute_reply": "2022-02-09T08:58:50.631476Z",
     "shell.execute_reply.started": "2022-02-09T08:57:27.832535Z"
    },
    "papermill": {
     "duration": 5.665307,
     "end_time": "2022-02-09T08:58:50.631664",
     "exception": false,
     "start_time": "2022-02-09T08:58:44.966357",
     "status": "completed"
    },
    "scrolled": true,
    "tags": []
   },
   "outputs": [
    {
     "name": "stderr",
     "output_type": "stream",
     "text": [
      "0it [00:00, ?it/s]"
     ]
    },
    {
     "name": "stdout",
     "output_type": "stream",
     "text": [
      "This version of the API is not optimized and should not be used to estimate the runtime of your code on the hidden test set.\n",
      "pred df is    index       annotations\n",
      "0      0  0.99 123 456 1 1\n",
      "bboxes are [[     434.93      194.94      460.22       219.2]]\n",
      "Confidence values are [    0.21476]\n",
      "bboxes are []\n"
     ]
    },
    {
     "name": "stderr",
     "output_type": "stream",
     "text": [
      "1it [00:05,  5.03s/it]"
     ]
    },
    {
     "name": "stdout",
     "output_type": "stream",
     "text": [
      "bboxes are []\n",
      "New pred_df is    index                                        annotations\n",
      "0      0  0.2147560566663742 434.0 194.0 25.0 23.9999999...\n",
      "------------------------------  WBF   ---------------------------------------\n",
      "pred df is    index       annotations\n",
      "0      1  0.99 123 456 1 1\n",
      "bboxes are [[      198.5      144.16      247.53      177.09]]\n",
      "Confidence values are [     0.2428]\n",
      "bboxes are []\n"
     ]
    },
    {
     "name": "stderr",
     "output_type": "stream",
     "text": [
      "2it [00:05,  2.24s/it]"
     ]
    },
    {
     "name": "stdout",
     "output_type": "stream",
     "text": [
      "bboxes are []\n",
      "New pred_df is    index                                        annotations\n",
      "0      1  0.24280232191085815 198.0 144.0 49.0 31.999999...\n",
      "------------------------------  WBF   ---------------------------------------\n",
      "pred df is    index       annotations\n",
      "0      2  0.99 123 456 1 1\n",
      "bboxes are [[     229.39      307.52      264.36      333.47]]\n",
      "Confidence values are [    0.57852]\n",
      "bboxes are []\n"
     ]
    },
    {
     "name": "stderr",
     "output_type": "stream",
     "text": [
      "3it [00:05,  1.87s/it]"
     ]
    },
    {
     "name": "stdout",
     "output_type": "stream",
     "text": [
      "bboxes are []\n",
      "New pred_df is    index                               annotations\n",
      "0      2  0.5785226225852966 229.0 307.0 34.0 25.0\n",
      "------------------------------  WBF   ---------------------------------------\n"
     ]
    },
    {
     "name": "stderr",
     "output_type": "stream",
     "text": [
      "\n"
     ]
    }
   ],
   "source": [
    "Method =\"WBF\"# NMS,Soft-NMS,NMW or WBF\n",
    "IMG_SIZE  = 1280 #3600 1280\n",
    "AUGMENT   = True\n",
    "iou_thr=IOU\n",
    "skip_box_thr = 0.0001\n",
    "sigma = 0.01 #only in soft-nms\n",
    "weights = [1, 1, 1]#[1.5, 0.5 ,1.5] was also tested, [0.5,2,2], [0.5,1,1], [1,2,2]\n",
    "#--------------------------------------------------------------------------\n",
    "for idx, (img, pred_df) in enumerate(tqdm(iter_test)):\n",
    "    print(\"pred df is {}\".format(pred_df))\n",
    "    bboxes1, scores1  = predict(model1, img, size=IMG_SIZE, augment=AUGMENT) #,bbclasses1\n",
    "    bboxes2, scores2  = predict(model2, img, size=IMG_SIZE, augment=AUGMENT) #,bbclasses2\n",
    "    bboxes3, scores3 = predict(model3, img, size=IMG_SIZE, augment=AUGMENT) #,bbclasses3 \n",
    "    boxes_list=[]\n",
    "    scores_list=[]\n",
    "    labels_list=[]\n",
    "\n",
    "    if len(bboxes1)>0:\n",
    "        boxes_list.append(bboxes1)\n",
    "        scores_list.append(scores1)\n",
    "        bboxes1[:, 2] = bboxes1[:, 2] + bboxes1[:, 0]\n",
    "        bboxes1[:, 3] = bboxes1[:, 3] + bboxes1[:, 1]\n",
    "    if len(bboxes2)>0:\n",
    "        boxes_list.append(bboxes2)\n",
    "        scores_list.append(scores2)\n",
    "        bboxes2[:, 2] = bboxes2[:, 2] + bboxes2[:, 0]\n",
    "        bboxes2[:, 3] = bboxes2[:, 3] + bboxes2[:, 1]\n",
    "    if len(bboxes3)>0:\n",
    "        boxes_list.append(bboxes3)\n",
    "        scores_list.append(scores3)\n",
    "        bboxes3[:, 2] = bboxes3[:, 2] + bboxes3[:, 0]\n",
    "        bboxes3[:, 3] = bboxes3[:, 3] + bboxes3[:, 1]\n",
    "\n",
    "    if (len(bboxes1) + len(bboxes2) + len(bboxes3))>0:\n",
    "        if Method ==\"NMS\":\n",
    "            boxes, scores, labels  = run_nms(boxes_list, scores_list, IMG_SIZE, iou_thr=iou_thr,weights=weights) #3rd labels_list,\n",
    "        elif Method ==\"Soft-NMS\":\n",
    "            boxes, scores, labels  = run_soft_nms(boxes_list, scores_list,IMG_SIZE, iou_thr,skip_box_thr,sigma,weights=weights) #labels_list,\n",
    "        elif Method ==\"NMW\":\n",
    "            boxes, scores, labels  = run_nmw(boxes_list, scores_list, IMG_SIZE, iou_thr, skip_box_thr,weights=weights) #labels_list,\n",
    "        elif Method ==\"WBF\":\n",
    "            boxes, scores, labels  = run_wbf(boxes_list, scores_list,IMG_SIZE, iou_thr, skip_box_thr,weights=weights) #labels_list,\n",
    "        else:\n",
    "            Method =\"Only First Model(No Ensembling)\"\n",
    "            boxes, scores, labels  = bboxes1,scores1,bbclasses1 \n",
    "        boxes[:, 2] = boxes[:, 2] - boxes[:, 0]\n",
    "        boxes[:, 3] = boxes[:, 3] - boxes[:, 1]\n",
    "    else: boxes=[]\n",
    "    annot = format_prediction(boxes, scores)\n",
    "    pred_df['annotations'] = annot\n",
    "    print(\"New pred_df is {}\".format(pred_df))\n",
    "    print(\"Final annotations are {}\".format(annot))\n",
    "    env.predict(pred_df)\n",
    "    if idx<3:\n",
    "        display(show_img(img, boxes, bbox_format='coco'))\n",
    "    print(\"------------------------------  \" + Method +\"   ---------------------------------------\")"
   ]
  },
  {
   "cell_type": "markdown",
   "metadata": {},
   "source": [
    "Useful Sources:\n",
    "\n",
    "1) A Balanced Splitting Algorithm: https://www.kaggle.com/tatamikenn/balanced-fold-splitting-algorithm?scriptVersionId=83363247\n",
    "\n",
    "2) Full Train and Inference Guide https://www.kaggle.com/andradaolteanu/greatbarrierreef-yolo-full-guide-train-infer\n",
    "\n",
    "3) Why we should prefer to do video splits - to avoid data leakage https://www.kaggle.com/c/tensorflow-great-barrier-reef/discussion/293723\n",
    "\n",
    "4) Ensemble Models Explained https://medium.com/inspiredbrilliance/object-detection-through-ensemble-of-models-fed015bc1ee0 and GitHub Repo https://github.com/ZFTurbo/Weighted-Boxes-Fusion\n",
    "\n",
    "5) Object Detection Explained https://towardsdatascience.com/why-is-object-detection-so-messy-6a91191579b8\n",
    "\n",
    "6) Explanatory Data Analysis (EDA) https://www.kaggle.com/andradaolteanu/greatbarrierreef-full-guide-to-bboxaugmentation\n",
    "\n",
    "7) Image Enhancement https://www.kaggle.com/soumya9977/learning-to-sea-underwater-img-enhancement-eda\n",
    "\n",
    "8) Systematic Evaluation of F2 score https://www.kaggle.com/locbaop/systematic-evaluate-f2-yolov5\n",
    "\n",
    "9) Tracking (Not Used) https://www.kaggle.com/shigengtian/yolov5-is-all-you-need-and-tracking\n",
    "and explanation of what it is https://www.kaggle.com/kocha1/only-yolov5-tracking-lb-642/comments\n",
    "and files used for tracking https://www.kaggle.com/parapapapam/norfair031py3\n",
    "\n",
    "10) Run jupyter notebook in Peregrine (University Cluster) https://wiki.hpc.rug.nl/peregrine/examples/jupyter"
   ]
  }
 ],
 "metadata": {
  "kernelspec": {
   "display_name": "Python 3",
   "language": "python",
   "name": "python3"
  },
  "language_info": {
   "codemirror_mode": {
    "name": "ipython",
    "version": 3
   },
   "file_extension": ".py",
   "mimetype": "text/x-python",
   "name": "python",
   "nbconvert_exporter": "python",
   "pygments_lexer": "ipython3",
   "version": "3.7.3"
  },
  "papermill": {
   "default_parameters": {},
   "duration": 32.010738,
   "end_time": "2022-02-09T08:58:52.175958",
   "environment_variables": {},
   "exception": null,
   "input_path": "__notebook__.ipynb",
   "output_path": "__notebook__.ipynb",
   "parameters": {},
   "start_time": "2022-02-09T08:58:20.165220",
   "version": "2.3.3"
  }
 },
 "nbformat": 4,
 "nbformat_minor": 5
}
